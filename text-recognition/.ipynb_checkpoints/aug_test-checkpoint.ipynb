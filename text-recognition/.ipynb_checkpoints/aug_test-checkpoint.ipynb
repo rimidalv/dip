{
 "cells": [
  {
   "cell_type": "code",
   "execution_count": 1,
   "metadata": {
    "collapsed": true
   },
   "outputs": [],
   "source": [
    "import sys\n",
    "# Add the ptdraft folder path to the sys.path list\n",
    "sys.path.append('../Augmentor/')\n",
    "sys.path.append('../generate_license_plates-master/')"
   ]
  },
  {
   "cell_type": "code",
   "execution_count": 518,
   "metadata": {},
   "outputs": [],
   "source": [
    "from generate import generateNumber\n",
    "import Augmentor\n",
    "import cv2\n",
    "import numpy as np\n",
    "from scipy import ndimage\n",
    "from matplotlib import pyplot as plt"
   ]
  },
  {
   "cell_type": "code",
   "execution_count": 519,
   "metadata": {
    "collapsed": true
   },
   "outputs": [],
   "source": [
    "%matplotlib inline"
   ]
  },
  {
   "cell_type": "code",
   "execution_count": 679,
   "metadata": {
    "collapsed": true
   },
   "outputs": [],
   "source": [
    "def saturate(image, min_sat, max_sat):\n",
    "    severity = np.random.uniform(min_sat, max_sat)\n",
    "    img_speck = (image + severity)\n",
    "    img_speck[img_speck > 255] = 255\n",
    "    img_speck[img_speck <= 0] = 0\n",
    "    img_speck = np.array(img_speck.astype(np.int32))\n",
    "    return img_speck"
   ]
  },
  {
   "cell_type": "code",
   "execution_count": 680,
   "metadata": {},
   "outputs": [],
   "source": [
    "def speckle(img):\n",
    "    severity = np.random.uniform(0, 1) * 255\n",
    "    blur = ndimage.gaussian_filter(np.random.randn(*img.shape) * severity, 3, truncate=10)\n",
    "    img_speck = (img + blur)\n",
    "    img_speck[img_speck > 255] = 255\n",
    "    img_speck[img_speck <= 0] = 0\n",
    "    img_speck = np.array(img_speck.astype(np.int32))\n",
    "    return img_speck"
   ]
  },
  {
   "cell_type": "code",
   "execution_count": 681,
   "metadata": {},
   "outputs": [],
   "source": [
    "# p.flip_top_bottom(probability=0.1)\n",
    "def aug(w,h):\n",
    "    p = Augmentor.Pipeline()\n",
    "    \n",
    "    width = int(w*1.7)\n",
    "    height = int(h*1.7)\n",
    "    p.zoom(probability=1, min_factor=0.6, max_factor=0.7)\n",
    "    p.skew_tilt(probability=0.5,magnitude=0.4)\n",
    "    p.rotate(probability=0.5, max_left_rotation=5, max_right_rotation=5)\n",
    "\n",
    "    width = w//5\n",
    "    height = h//5\n",
    "    p.random_distortion(0.25, grid_width=width, grid_height=height, magnitude=1)\n",
    "    \n",
    "    width = w//1\n",
    "    height = h//1\n",
    "    p.random_distortion(0.25, grid_width=width, grid_height=height, magnitude=1)\n",
    "    p.shear(probability=0.5, max_shear_left=5, max_shear_right=5)\n",
    "    \n",
    "    return p"
   ]
  },
  {
   "cell_type": "code",
   "execution_count": 730,
   "metadata": {},
   "outputs": [],
   "source": [
    "def gen_image(image_path, w, h):\n",
    "    img = cv2.imread(image_path)\n",
    "    try:\n",
    "        img = cv2.cvtColor(img, cv2.COLOR_BGR2GRAY)\n",
    "    except:\n",
    "        img = cv2.imread(image_path, 0)#img = cv2.cvtColor(img, 0)\n",
    "        \n",
    "    img = cv2.resize(img, (w, h))\n",
    "    img = saturate(img, -200, 200)\n",
    "    img = speckle(img)\n",
    "    p = aug(w,h)\n",
    "    \n",
    "    img = p.sample_with_array(img)\n",
    "    \n",
    "#     img = np.asarray(p.sample_with_array(img))\n",
    "#     img = img.astype(np.float32)\n",
    "#     img /= 255\n",
    "    return img"
   ]
  },
  {
   "cell_type": "code",
   "execution_count": null,
   "metadata": {
    "collapsed": true
   },
   "outputs": [],
   "source": [
    "img = generateNumber()\n",
    "img = cv2.cvtColor(img, cv2.COLOR_BGR2GRAY)\n",
    "\n",
    "img = cv2.resize(img, (w, h))\n",
    "img = saturate(img, -200, 200)\n",
    "img = speckle(img)\n",
    "p = aug(w,h)\n",
    "\n",
    "img = p.sample_with_array(img)\n",
    "plt.imshow(img)"
   ]
  },
  {
   "cell_type": "code",
   "execution_count": 731,
   "metadata": {},
   "outputs": [
    {
     "ename": "error",
     "evalue": "/Users/travis/build/skvark/opencv-python/opencv/modules/imgproc/src/resize.cpp:4044: error: (-215) ssize.width > 0 && ssize.height > 0 in function resize\n",
     "output_type": "error",
     "traceback": [
      "\u001b[0;31m---------------------------------------------------------------------------\u001b[0m",
      "\u001b[0;31merror\u001b[0m                                     Traceback (most recent call last)",
      "\u001b[0;32m<ipython-input-731-ba5f1e9d84c8>\u001b[0m in \u001b[0;36m<module>\u001b[0;34m()\u001b[0m\n\u001b[0;32m----> 1\u001b[0;31m \u001b[0ma\u001b[0m \u001b[0;34m=\u001b[0m \u001b[0mgen_image\u001b[0m\u001b[0;34m(\u001b[0m\u001b[0mpath\u001b[0m\u001b[0;34m,\u001b[0m \u001b[0;36m296\u001b[0m\u001b[0;34m,\u001b[0m\u001b[0;36m96\u001b[0m\u001b[0;34m)\u001b[0m\u001b[0;34m\u001b[0m\u001b[0m\n\u001b[0m\u001b[1;32m      2\u001b[0m \u001b[0mplt\u001b[0m\u001b[0;34m.\u001b[0m\u001b[0mimshow\u001b[0m\u001b[0;34m(\u001b[0m\u001b[0ma\u001b[0m\u001b[0;34m)\u001b[0m\u001b[0;34m\u001b[0m\u001b[0m\n",
      "\u001b[0;32m<ipython-input-730-ff7ca8290327>\u001b[0m in \u001b[0;36mgen_image\u001b[0;34m(image_path, w, h)\u001b[0m\n\u001b[1;32m      6\u001b[0m         \u001b[0mimg\u001b[0m \u001b[0;34m=\u001b[0m \u001b[0mcv2\u001b[0m\u001b[0;34m.\u001b[0m\u001b[0mimread\u001b[0m\u001b[0;34m(\u001b[0m\u001b[0mimage_path\u001b[0m\u001b[0;34m,\u001b[0m \u001b[0;36m0\u001b[0m\u001b[0;34m)\u001b[0m\u001b[0;31m#img = cv2.cvtColor(img, 0)\u001b[0m\u001b[0;34m\u001b[0m\u001b[0m\n\u001b[1;32m      7\u001b[0m \u001b[0;34m\u001b[0m\u001b[0m\n\u001b[0;32m----> 8\u001b[0;31m     \u001b[0mimg\u001b[0m \u001b[0;34m=\u001b[0m \u001b[0mcv2\u001b[0m\u001b[0;34m.\u001b[0m\u001b[0mresize\u001b[0m\u001b[0;34m(\u001b[0m\u001b[0mimg\u001b[0m\u001b[0;34m,\u001b[0m \u001b[0;34m(\u001b[0m\u001b[0mw\u001b[0m\u001b[0;34m,\u001b[0m \u001b[0mh\u001b[0m\u001b[0;34m)\u001b[0m\u001b[0;34m)\u001b[0m\u001b[0;34m\u001b[0m\u001b[0m\n\u001b[0m\u001b[1;32m      9\u001b[0m     \u001b[0mimg\u001b[0m \u001b[0;34m=\u001b[0m \u001b[0msaturate\u001b[0m\u001b[0;34m(\u001b[0m\u001b[0mimg\u001b[0m\u001b[0;34m,\u001b[0m \u001b[0;34m-\u001b[0m\u001b[0;36m200\u001b[0m\u001b[0;34m,\u001b[0m \u001b[0;36m200\u001b[0m\u001b[0;34m)\u001b[0m\u001b[0;34m\u001b[0m\u001b[0m\n\u001b[1;32m     10\u001b[0m     \u001b[0mimg\u001b[0m \u001b[0;34m=\u001b[0m \u001b[0mspeckle\u001b[0m\u001b[0;34m(\u001b[0m\u001b[0mimg\u001b[0m\u001b[0;34m)\u001b[0m\u001b[0;34m\u001b[0m\u001b[0m\n",
      "\u001b[0;31merror\u001b[0m: /Users/travis/build/skvark/opencv-python/opencv/modules/imgproc/src/resize.cpp:4044: error: (-215) ssize.width > 0 && ssize.height > 0 in function resize\n"
     ]
    }
   ],
   "source": [
    "a = gen_image(path, 296,96)\n",
    "plt.imshow(a)"
   ]
  },
  {
   "cell_type": "code",
   "execution_count": 732,
   "metadata": {},
   "outputs": [
    {
     "data": {
      "text/plain": [
       "True"
      ]
     },
     "execution_count": 732,
     "metadata": {},
     "output_type": "execute_result"
    }
   ],
   "source": [
    "a = gen_image(\"/Users/vladimir/temp/numbers/recognition/train296x96/A000AA 00_2.png\", 296,96)\n",
    "cv2.imwrite(\"/Users/vladimir/temp/numbers/recognition/1.png\", np.array(a))"
   ]
  },
  {
   "cell_type": "code",
   "execution_count": 733,
   "metadata": {},
   "outputs": [
    {
     "data": {
      "text/plain": [
       "<matplotlib.image.AxesImage at 0x181e3ede80>"
      ]
     },
     "execution_count": 733,
     "metadata": {},
     "output_type": "execute_result"
    },
    {
     "data": {
      "image/png": "[encoded data removed]",
      "text/plain": [
       "<matplotlib.figure.Figure at 0x181d493320>"
      ]
     },
     "metadata": {},
     "output_type": "display_data"
    }
   ],
   "source": [
    "a = gen_image(\"/Users/vladimir/temp/numbers/recognition/1.png\", 296,96)\n",
    "plt.imshow(a)"
   ]
  },
  {
   "cell_type": "code",
   "execution_count": null,
   "metadata": {
    "collapsed": true
   },
   "outputs": [],
   "source": []
  }
 ],
 "metadata": {
  "kernelspec": {
   "display_name": "Python 3",
   "language": "python",
   "name": "python3"
  },
  "language_info": {
   "codemirror_mode": {
    "name": "ipython",
    "version": 3
   },
   "file_extension": ".py",
   "mimetype": "text/x-python",
   "name": "python",
   "nbconvert_exporter": "python",
   "pygments_lexer": "ipython3",
   "version": "3.6.4"
  }
 },
 "nbformat": 4,
 "nbformat_minor": 2
}
