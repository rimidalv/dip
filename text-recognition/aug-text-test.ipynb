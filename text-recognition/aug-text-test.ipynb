{
 "cells": [
  {
   "cell_type": "code",
   "execution_count": 1,
   "metadata": {},
   "outputs": [],
   "source": [
    "# -*- coding: utf-8 -*-"
   ]
  },
  {
   "cell_type": "code",
   "execution_count": 238,
   "metadata": {},
   "outputs": [],
   "source": [
    "from PIL import ImageFont, ImageDraw, Image\n",
    "import cv2\n",
    "import numpy as np\n",
    "import matplotlib.pyplot as plt\n",
    "import matplotlib.gridspec as gridspec\n",
    "import random as rd\n",
    "import math\n",
    "%matplotlib inline\n",
    "from scipy import ndimage"
   ]
  },
  {
   "cell_type": "code",
   "execution_count": 275,
   "metadata": {},
   "outputs": [],
   "source": [
    "def generate_image(text, W, H, fontpath, font_size):\n",
    "    # Create a black image\n",
    "    img = np.full((H,W,3), 0, np.uint8)\n",
    "#     img = cv2.filter2D(img, -3, kernel_sharpen)\n",
    "    \n",
    "    fontColor              = (30,0,0,0)\n",
    "    font = ImageFont.truetype(fontpath, font_size)\n",
    "    \n",
    "    img_pil = Image.fromarray(img)\n",
    "    draw = ImageDraw.Draw(img_pil)\n",
    "    w, h = draw.textsize(text, font = font)\n",
    "   \n",
    "    while w > W:\n",
    "        font_size -= 1\n",
    "        font = ImageFont.truetype(fontpath, font_size)\n",
    "        w, h = draw.textsize(text, font = font)\n",
    "        \n",
    "    x = 0#rd.randint(0, max(W-w-1, 0))\n",
    "    y = 0#rd.randint(0, max(H-h-1, 0))\n",
    "#     x,y = 0,0\n",
    "#    draw.text(((W-w)/2,(H-h)/2), msg, fill=\"black\")\n",
    "    draw.text((x,y), text, font = font, fill = fontColor)\n",
    "    \n",
    "    img = np.array(img_pil)\n",
    "    return img\n"
   ]
  },
  {
   "cell_type": "code",
   "execution_count": 276,
   "metadata": {},
   "outputs": [],
   "source": [
    "def speckle(img, maximum):\n",
    "    severity = np.random.uniform(0, 1) * maximum\n",
    "    blur = ndimage.gaussian_filter(np.random.randn(*img.shape) * severity, 4, truncate=10)\n",
    "    img_speck = img + blur\n",
    "    img_speck[img_speck > 255] = 255\n",
    "    img_speck[img_speck <= 0] = 0\n",
    "    img_speck = np.array(img_speck.astype(np.ubyte))\n",
    "    return img_speck"
   ]
  },
  {
   "cell_type": "code",
   "execution_count": 277,
   "metadata": {},
   "outputs": [],
   "source": [
    "def sp_noise(image,maximum):\n",
    "    output = np.zeros(image.shape,np.uint8)\n",
    "    for i in range(image.shape[0]):\n",
    "        for j in range(image.shape[1]):\n",
    "            rdn = rd.randint(0, maximum)\n",
    "            if rdn < 0:\n",
    "                output[i][j] = 0\n",
    "            elif rdn > 255:\n",
    "                output[i][j] = 255\n",
    "            else:\n",
    "                output[i][j] = image[i][j] + rdn\n",
    "    return output"
   ]
  },
  {
   "cell_type": "code",
   "execution_count": 278,
   "metadata": {},
   "outputs": [],
   "source": [
    "def sp_noise2(image,maximum):\n",
    "    blur = np.random.rand(*image.shape) * maximum\n",
    "    img_speck = image + blur\n",
    "    img_speck[img_speck > 255] = 255\n",
    "    img_speck[img_speck <= 0] = 0\n",
    "    img_speck = np.array(img_speck.astype(np.ubyte))\n",
    "    return img_speck"
   ]
  },
  {
   "cell_type": "code",
   "execution_count": 279,
   "metadata": {},
   "outputs": [],
   "source": [
    "noise_typ = [\"gauss\",\"s&p\", \"poisson\", \"speckle\"]\n",
    "\n",
    "\n",
    "\n",
    "def noisy(noise_typ,image):\n",
    "    if noise_typ == \"gauss\":\n",
    "        row,col,ch= image.shape\n",
    "        mean = 0\n",
    "        var = 0.1\n",
    "        sigma = var**0.5\n",
    "        gauss = np.random.normal(mean,sigma,(row,col,ch))\n",
    "        gauss = gauss.reshape(row,col,ch)\n",
    "        noisy = image + gauss\n",
    "        return noisy\n",
    "    elif noise_typ == \"s&p\":\n",
    "        row,col,ch = image.shape\n",
    "        s_vs_p = 0.5\n",
    "        amount = 0.004\n",
    "        out = np.copy(image)\n",
    "        # Salt mode\n",
    "        num_salt = np.ceil(amount * image.size * s_vs_p)\n",
    "        coords = [np.random.randint(0, i - 1, int(num_salt))\n",
    "              for i in image.shape]\n",
    "        out[coords] = 1\n",
    "\n",
    "        # Pepper mode\n",
    "        num_pepper = np.ceil(amount* image.size * (1. - s_vs_p))\n",
    "        coords = [np.random.randint(0, i - 1, int(num_pepper))\n",
    "              for i in image.shape]\n",
    "        out[coords] = 0\n",
    "        return out\n",
    "    elif noise_typ == \"poisson\":\n",
    "        vals = len(np.unique(image))\n",
    "        vals = 2 ** np.ceil(np.log2(vals))\n",
    "        noisy = np.random.poisson(image * vals) / float(vals)\n",
    "        return noisy\n",
    "    elif noise_typ ==\"speckle\":\n",
    "        row,col,ch = image.shape\n",
    "        gauss = np.random.randn(row,col,ch)\n",
    "        gauss = gauss.reshape(row,col,ch)        \n",
    "        noisy = image + image * gauss\n",
    "        return noisy"
   ]
  },
  {
   "cell_type": "code",
   "execution_count": 282,
   "metadata": {},
   "outputs": [],
   "source": [
    "def resize(img, w, h ):\n",
    "    inWidth = img.shape[1]\n",
    "    inHeight = img.shape[0]\n",
    "    dstWidth = w\n",
    "    dstHeight = h\n",
    "    scaleFactorX = dstWidth / inWidth;\n",
    "    scaleFactorY = dstHeight / inHeight;\n",
    "\n",
    "#     if (dstWidth > inWidth):\n",
    "#         scaleFactor = max(scaleFactorX, scaleFactorY);\n",
    "#     else:\n",
    "    scaleFactor = min(scaleFactorX, scaleFactorY);\n",
    "\n",
    "    newW = int(inWidth * scaleFactor)    \n",
    "    newH = int(inHeight * scaleFactor)\n",
    "    y = int((dstHeight - newH)/2)\n",
    "    img_new = np.full((48,400), 0)\n",
    "    \n",
    "    \n",
    "    img_new[y:(newH+y),:newW] = cv2.resize(img, ( newW, newH))[:,:]\n",
    "    return img_new"
   ]
  },
  {
   "cell_type": "code",
   "execution_count": 297,
   "metadata": {
    "scrolled": true
   },
   "outputs": [
    {
     "name": "stdout",
     "output_type": "stream",
     "text": [
      "(17, 274)\n"
     ]
    },
    {
     "data": {
      "text/plain": [
       "<matplotlib.image.AxesImage at 0x182cccf1d0>"
      ]
     },
     "execution_count": 297,
     "metadata": {},
     "output_type": "execute_result"
    },
    {
     "data": {
      "image/png": "[encoded data removed]",
      "text/plain": [
       "<matplotlib.figure.Figure at 0x182cbf67f0>"
      ]
     },
     "metadata": {},
     "output_type": "display_data"
    }
   ],
   "source": [
    "img = cv2.imread(\"./data/images/20180316_123418_333.jpg\", cv2.COLOR_BGR2GRAY)[:,:,0]\n",
    "print(img.shape)\n",
    "\n",
    "img2 = resize(img, 400, 48)\n",
    "\n",
    "# img = cv2.resize(img, (400,48))\n",
    "fig = plt.figure(figsize=(10, 10))\n",
    "plt.imshow(img2, cmap='gray')"
   ]
  },
  {
   "cell_type": "code",
   "execution_count": null,
   "metadata": {},
   "outputs": [],
   "source": []
  },
  {
   "cell_type": "code",
   "execution_count": 234,
   "metadata": {
    "scrolled": true
   },
   "outputs": [
    {
     "name": "stdout",
     "output_type": "stream",
     "text": [
      "7\n",
      "2.1972245773362196\n",
      "222\n"
     ]
    },
    {
     "data": {
      "text/plain": [
       "<matplotlib.image.AxesImage at 0x182bda3dd8>"
      ]
     },
     "execution_count": 234,
     "metadata": {},
     "output_type": "execute_result"
    },
    {
     "data": {
      "image/png": "[encoded data removed]",
      "text/plain": [
       "<matplotlib.figure.Figure at 0x182c71be48>"
      ]
     },
     "metadata": {},
     "output_type": "display_data"
    }
   ],
   "source": [
    "#!/usr/bin/python\n",
    "# -*- coding: utf-8 -*-\n",
    "# text = \"Внимание! означает согласие с условиями поставки товара.\"\n",
    "text = \"вскружить\"# для заполнения платежного поручения\"#\"30101810000000000201\"\n",
    "\n",
    "print(text_len)\n",
    "w,h = 400, 48\n",
    "num_inn = rd.randint(0, 9999999999)\n",
    "# text = \"{:010d}\".format(num_inn)\n",
    "# img = generate_image(text, font_size=20)\n",
    "\n",
    "img = generate_image(text, w, h, \"./fonts/Arial.ttf\" ,font_size=40)\n",
    "text_len = len(text)\n",
    "height = int(100 / (text_len / 20))\n",
    "print(np.log(text_len))\n",
    "print(height)\n",
    "img = cv2.resize(img, (400,96))[:height, :,:]\n",
    "\n",
    "kernel_sharpen = np.array([[0,-1,0], [-1,5,-1], [0,-1,0]])\n",
    "kernel_gaussian_blur = np.array([[1,2,1], [2,4,2], [1,2,1]]) / 16\n",
    "\n",
    "img = speckle(img, 30)\n",
    "img = cv2.filter2D(img, -1, kernel_gaussian_blur)\n",
    "img = sp_noise2(img,3)\n",
    "img = cv2.filter2D(img, -3, kernel_sharpen)\n",
    "img = cv2.resize(img, (300,36))\n",
    "img = cv2.resize(img, (400,48))\n",
    "img = sp_noise2(img,10)\n",
    "\n",
    "# img = cv2.filter2D(img, -3, kernel_sharpen)\n",
    "# img = cv2.filter2D(img, -1, kernel_sharpen)\n",
    "\n",
    "# img = noisy(noise_typ[0], img)\n",
    "# img = np.array(img.astype(np.ubyte))\n",
    "# img[img > 255] = 255\n",
    "# img[img <= 0] = 0\n",
    "\n",
    "\n",
    "\n",
    "fig = plt.figure(figsize=(10, 10))\n",
    "plt.imshow(img[:,:,0], cmap='gray')"
   ]
  },
  {
   "cell_type": "code",
   "execution_count": 114,
   "metadata": {},
   "outputs": [],
   "source": [
    "import sys\n",
    "# Add the ptdraft folder path to the sys.path list\n",
    "sys.path.append('../Augmentor/')\n",
    "# sys.path.append('../generate_license_plates-master/')\n",
    "import Augmentor"
   ]
  },
  {
   "cell_type": "code",
   "execution_count": null,
   "metadata": {},
   "outputs": [],
   "source": [
    "p = Augmentor.Pipeline()\n",
    "# width = int(w*1.7)\n",
    "# height = int(h*1.7)\n",
    "# p.zoom(probability=1, min_factor=0.6, max_factor=0.7)\n",
    "# p.skew_tilt(probability=0.5,magnitude=0.05)\n",
    "# p.rotate(probability=0.5, max_left_rotation=0.5, max_right_rotation=0.5)\n",
    "# p.shear(probability=0.5, max_shear_left=0.5, max_shear_right=0.5)"
   ]
  },
  {
   "cell_type": "code",
   "execution_count": null,
   "metadata": {},
   "outputs": [],
   "source": [
    "p = Augmentor.Pipeline()\n",
    "w = int(200)\n",
    "h = int(24)\n",
    "print(w,h)\n",
    "p.random_distortion(1, grid_width=w, grid_height=h, magnitude=1)"
   ]
  },
  {
   "cell_type": "code",
   "execution_count": null,
   "metadata": {},
   "outputs": [],
   "source": [
    "img2 = np.asarray(p.sample_with_array(img))\n",
    "plt.imshow(img2)"
   ]
  },
  {
   "cell_type": "code",
   "execution_count": null,
   "metadata": {},
   "outputs": [],
   "source": [
    "img3 = speckle(img2)\n",
    "plt.imshow(img3)"
   ]
  },
  {
   "cell_type": "code",
   "execution_count": 231,
   "metadata": {},
   "outputs": [],
   "source": [
    "def load_dict(filename):\n",
    "    with open(filename, 'r',encoding='cp1251') as f:\n",
    "        data = f.read()\n",
    "        with open(\"./data/words_dict2.txt\", \"w\") as w:\n",
    "            w.write(data)\n",
    "#         data = [d[:98].strip() for d in data]\n",
    "        \n",
    "#         a=  [text_to_labels(d) for d in data]\n",
    "#         print(\"data len:\", str(len(data)))\n",
    "#         print(a)\n",
    "    return data"
   ]
  },
  {
   "cell_type": "code",
   "execution_count": 232,
   "metadata": {},
   "outputs": [],
   "source": [
    "dict_words = load_dict(\"./data/words_dict.txt\")[:10]"
   ]
  },
  {
   "cell_type": "code",
   "execution_count": 233,
   "metadata": {},
   "outputs": [
    {
     "data": {
      "text/plain": [
       "'а\\nа-а-а\\nаа'"
      ]
     },
     "execution_count": 233,
     "metadata": {},
     "output_type": "execute_result"
    }
   ],
   "source": [
    "dict_words[:100]"
   ]
  },
  {
   "cell_type": "code",
   "execution_count": null,
   "metadata": {},
   "outputs": [],
   "source": []
  }
 ],
 "metadata": {
  "kernelspec": {
   "display_name": "Python 3",
   "language": "python",
   "name": "python3"
  },
  "language_info": {
   "codemirror_mode": {
    "name": "ipython",
    "version": 3
   },
   "file_extension": ".py",
   "mimetype": "text/x-python",
   "name": "python",
   "nbconvert_exporter": "python",
   "pygments_lexer": "ipython3",
   "version": "3.6.4"
  }
 },
 "nbformat": 4,
 "nbformat_minor": 2
}
