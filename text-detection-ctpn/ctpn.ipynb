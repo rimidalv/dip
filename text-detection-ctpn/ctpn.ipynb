{
 "cells": [
  {
   "cell_type": "code",
   "execution_count": 1,
   "metadata": {
    "scrolled": true
   },
   "outputs": [
    {
     "name": "stderr",
     "output_type": "stream",
     "text": [
      "/Users/vladimir/anaconda3/lib/python3.6/site-packages/h5py/__init__.py:36: FutureWarning: Conversion of the second argument of issubdtype from `float` to `np.floating` is deprecated. In future, it will be treated as `np.float64 == np.dtype(float).type`.\n",
      "  from ._conv import register_converters as _register_converters\n"
     ]
    },
    {
     "ename": "ModuleNotFoundError",
     "evalue": "No module named 'shutilrpn_rois'",
     "output_type": "error",
     "traceback": [
      "\u001b[0;31m---------------------------------------------------------------------------\u001b[0m",
      "\u001b[0;31mModuleNotFoundError\u001b[0m                       Traceback (most recent call last)",
      "\u001b[0;32m<ipython-input-1-bf141418aff9>\u001b[0m in \u001b[0;36m<module>\u001b[0;34m()\u001b[0m\n\u001b[1;32m      4\u001b[0m \u001b[0;32mimport\u001b[0m \u001b[0mos\u001b[0m\u001b[0;34m,\u001b[0m \u001b[0msys\u001b[0m\u001b[0;34m,\u001b[0m \u001b[0mcv2\u001b[0m\u001b[0;34m\u001b[0m\u001b[0m\n\u001b[1;32m      5\u001b[0m \u001b[0;32mimport\u001b[0m \u001b[0mglob\u001b[0m\u001b[0;34m\u001b[0m\u001b[0m\n\u001b[0;32m----> 6\u001b[0;31m \u001b[0;32mimport\u001b[0m \u001b[0mshutilrpn_rois\u001b[0m\u001b[0;34m\u001b[0m\u001b[0m\n\u001b[0m\u001b[1;32m      7\u001b[0m \u001b[0;34m\u001b[0m\u001b[0m\n\u001b[1;32m      8\u001b[0m \u001b[0msys\u001b[0m\u001b[0;34m.\u001b[0m\u001b[0mpath\u001b[0m\u001b[0;34m.\u001b[0m\u001b[0mappend\u001b[0m\u001b[0;34m(\u001b[0m\u001b[0mos\u001b[0m\u001b[0;34m.\u001b[0m\u001b[0mgetcwd\u001b[0m\u001b[0;34m(\u001b[0m\u001b[0;34m)\u001b[0m\u001b[0;34m)\u001b[0m\u001b[0;34m\u001b[0m\u001b[0m\n",
      "\u001b[0;31mModuleNotFoundError\u001b[0m: No module named 'shutilrpn_rois'"
     ]
    }
   ],
   "source": [
    "from __future__ import print_function\n",
    "import tensorflow as tf\n",
    "import numpy as np\n",
    "import os, sys, cv2\n",
    "import glob\n",
    "import shutil rpn_rois\n",
    "\n",
    "sys.path.append(os.getcwd())\n",
    "from lib.networks.factory import get_network\n",
    "from lib.fast_rcnn.config import cfg, cfg_from_file\n",
    "from lib.fast_rcnn.test import test_ctpn\n",
    "from lib.utils.timer import Timer\n",
    "from lib.text_connector.detectors import TextDetector\n",
    "from lib.text_connector.text_connect_cfg import Config as TextLineCfg\n"
   ]
  },
  {
   "cell_type": "code",
   "execution_count": null,
   "metadata": {},
   "outputs": [],
   "source": [
    "from matplotlib import pyplot as plt"
   ]
  },
  {
   "cell_type": "code",
   "execution_count": null,
   "metadata": {},
   "outputs": [],
   "source": [
    "import warnings\n",
    "warnings.filterwarnings('ignore')"
   ]
  },
  {
   "cell_type": "code",
   "execution_count": null,
   "metadata": {},
   "outputs": [],
   "source": [
    "%matplotlib inline"
   ]
  },
  {
   "cell_type": "code",
   "execution_count": null,
   "metadata": {},
   "outputs": [],
   "source": [
    "def resize_im(im, scale, max_scale=None):\n",
    "    f = float(scale) / min(im.shape[0], im.shape[1])\n",
    "    if max_scale != None and f * max(im.shape[0], im.shape[1]) > max_scale:\n",
    "        f = float(max_scale) / max(im.shape[0], im.shape[1])\n",
    "    return cv2.resize(im, None, None, fx=f, fy=f, interpolation=cv2.INTER_LINEAR), f"
   ]
  },
  {
   "cell_type": "code",
   "execution_count": 16,
   "metadata": {},
   "outputs": [],
   "source": [
    "def draw_boxes(img, image_name, boxes, scale):\n",
    "    base_name = image_name.split('/')[-1]\n",
    "    with open('data/results/' + 'res_{}.txt'.format(base_name.split('.')[0]), 'w') as f:\n",
    "        for box in boxes:\n",
    "            if np.linalg.norm(box[0] - box[1]) < 5 or np.linalg.norm(box[3] - box[0]) < 5:\n",
    "                continue\n",
    "            if box[8] >= 0.9:\n",
    "                color = (0, 255, 0)\n",
    "            elif box[8] >= 0.8:\n",
    "                color = (255, 0, 0)\n",
    "            cv2.line(img, (int(box[0]), int(box[1])), (int(box[2]), int(box[3])), color, 2)\n",
    "            cv2.line(img, (int(box[0]), int(box[1])), (int(box[4]), int(box[5])), color, 2)\n",
    "            cv2.line(img, (int(box[6]), int(box[7])), (int(box[2]), int(box[3])), color, 2)\n",
    "            cv2.line(img, (int(box[4]), int(box[5])), (int(box[6]), int(box[7])), color, 2)\n",
    "\n",
    "            min_x = min(int(box[0] / scale), int(box[2] / scale), int(box[4] / scale), int(box[6] / scale))\n",
    "            min_y = min(int(box[1] / scale), int(box[3] / scale), int(box[5] / scale), int(box[7] / scale))\n",
    "            max_x = max(int(box[0] / scale), int(box[2] / scale), int(box[4] / scale), int(box[6] / scale))\n",
    "            max_y = max(int(box[1] / scale), int(box[3] / scale), int(box[5] / scale), int(box[7] / scale))\n",
    "\n",
    "            line = ','.join([str(min_x), str(min_y), str(max_x), str(max_y)]) + '\\r\\n'\n",
    "            f.write(line)\n",
    "\n",
    "    img = cv2.resize(img, None, None, fx=1.0 / scale, fy=1.0 / scale, interpolation=cv2.INTER_LINEAR)\n",
    "    cv2.imwrite(os.path.join(\"data/results\", base_name), img)\n"
   ]
  },
  {
   "cell_type": "code",
   "execution_count": 17,
   "metadata": {},
   "outputs": [],
   "source": [
    "def ctpn(sess, net, image_name):\n",
    "    img = cv2.imread(image_name)\n",
    "    plt.imshow(img)\n",
    "    plt.show()\n",
    "    img, scale = resize_im(img, scale=TextLineCfg.SCALE, max_scale=TextLineCfg.MAX_SCALE)\n",
    "    plt.imshow(img)\n",
    "    plt.show()\n",
    "    print(\"scale\",scale)\n",
    "    scores, boxes = test_ctpn(sess, net, img)\n",
    "    print(\"scores\",scores)\n",
    "    print(\"boxes\",boxes)\n",
    "    textdetector = TextDetector()\n",
    "    boxes = textdetector.detect(boxes, scores[:, np.newaxis], img.shape[:2])\n",
    "    draw_boxes(img, image_name, boxes, scale)\n",
    "\n",
    "    print('{:d} object proposals'.format(boxes.shape[0]))\n"
   ]
  },
  {
   "cell_type": "code",
   "execution_count": 18,
   "metadata": {
    "scrolled": true
   },
   "outputs": [
    {
     "name": "stdout",
     "output_type": "stream",
     "text": [
      "Tensor(\"Placeholder:0\", shape=(?, ?, ?, 3), dtype=float32)\n",
      "Tensor(\"conv5_3/conv5_3:0\", shape=(?, ?, ?, 512), dtype=float32)\n",
      "Tensor(\"rpn_conv/3x3/rpn_conv/3x3:0\", shape=(?, ?, ?, 512), dtype=float32)\n",
      "Tensor(\"lstm_o/Reshape_2:0\", shape=(?, ?, ?, 512), dtype=float32)\n",
      "Tensor(\"lstm_o/Reshape_2:0\", shape=(?, ?, ?, 512), dtype=float32)\n",
      "Tensor(\"rpn_cls_score/Reshape_1:0\", shape=(?, ?, ?, 20), dtype=float32)\n",
      "Tensor(\"rpn_cls_prob:0\", shape=(?, ?, ?, ?), dtype=float32)\n",
      "Tensor(\"Reshape_2:0\", shape=(?, ?, ?, 20), dtype=float32)\n",
      "Tensor(\"rpn_bbox_pred/Reshape_1:0\", shape=(?, ?, ?, 40), dtype=float32)\n",
      "Tensor(\"Placeholder_1:0\", shape=(?, 3), dtype=float32)\n",
      "anchors.shape (10, 4)\n",
      "num_anchors 10\n",
      "deltas Tensor(\"rois/strided_slice_7:0\", shape=(?,), dtype=float32) Tensor(\"rois/strided_slice_8:0\", shape=(?,), dtype=float32) Tensor(\"rois/strided_slice_9:0\", shape=(?,), dtype=float32) Tensor(\"rois/strided_slice_10:0\", shape=(?,), dtype=float32)\n",
      "Loading network VGGnet_test...  Restoring from checkpoints/VGGnet_fast_rcnn_iter_50000.ckpt... INFO:tensorflow:Restoring parameters from checkpoints/VGGnet_fast_rcnn_iter_50000.ckpt\n",
      "done\n",
      "rois 1 ===  (1, 1000, 5)\n",
      "rois 2 ===  (1000, 5)\n",
      "rois 1 ===  (1, 1000, 5)\n",
      "rois 2 ===  (1000, 5)\n"
     ]
    }
   ],
   "source": [
    "tf.reset_default_graph() \n",
    "if os.path.exists(\"data/results/\"):\n",
    "    shutil.rmtree(\"data/results/\")\n",
    "os.makedirs(\"data/results/\")\n",
    "\n",
    "cfg_from_file('ctpn/text.yml')\n",
    "\n",
    "# init session\n",
    "config = tf.ConfigProto(allow_soft_placement=True)\n",
    "sess = tf.Session(config=config)\n",
    "# load network\n",
    "net = get_network(\"VGGnet_test\")\n",
    "# load model\n",
    "print(('Loading network {:s}... '.format(\"VGGnet_test\")), end=' ')\n",
    "saver = tf.train.Saver()\n",
    "\n",
    "try:\n",
    "    ckpt = tf.train.get_checkpoint_state(cfg.TEST.checkpoints_path)\n",
    "    print('Restoring from {}...'.format(ckpt.model_checkpoint_path), end=' ')\n",
    "    saver.restore(sess, ckpt.model_checkpoint_path)\n",
    "    print('done')\n",
    "except:\n",
    "    raise 'Check your pretrained {:s}'.format(ckpt.model_checkpoint_path)\n",
    "\n",
    "im = 128 * np.ones((300, 300, 3), dtype=np.uint8)\n",
    "for i in range(2):\n",
    "    _, _ = test_ctpn(sess, net, im)\n",
    "\n",
    "im_names = glob.glob(os.path.join(cfg.DATA_DIR, 'demo', '*.png')) + \\\n",
    "           glob.glob(os.path.join(cfg.DATA_DIR, 'demo', '*.jpg'))"
   ]
  },
  {
   "cell_type": "code",
   "execution_count": 19,
   "metadata": {
    "scrolled": true
   },
   "outputs": [
    {
     "name": "stdout",
     "output_type": "stream",
     "text": [
      "data\n",
      "im_info\n",
      "conv1_1\n",
      "conv1_2\n",
      "pool1\n",
      "conv2_1\n",
      "conv2_2\n",
      "pool2\n",
      "conv3_1\n",
      "conv3_2\n",
      "conv3_3\n",
      "pool3\n",
      "conv4_1\n",
      "conv4_2\n",
      "conv4_3\n",
      "pool4\n",
      "conv5_1\n",
      "conv5_2\n",
      "conv5_3\n",
      "rpn_conv/3x3\n",
      "lstm_o\n",
      "rpn_bbox_pred\n",
      "rpn_cls_score\n",
      "rpn_cls_score_reshape\n",
      "rpn_cls_prob\n",
      "rpn_cls_prob_reshape\n",
      "rpn_rois\n",
      "rpn_targets\n",
      "rois\n"
     ]
    }
   ],
   "source": [
    "for im_name in net.layers:\n",
    "    print(('{:s}'.format(im_name)))"
   ]
  },
  {
   "cell_type": "code",
   "execution_count": 22,
   "metadata": {},
   "outputs": [
    {
     "data": {
      "text/plain": [
       "<tf.Tensor 'rois/Reshape_4:0' shape=(?, 5) dtype=float32>"
      ]
     },
     "execution_count": 22,
     "metadata": {},
     "output_type": "execute_result"
    }
   ],
   "source": [
    "net.get_output('rois')[0]"
   ]
  },
  {
   "cell_type": "code",
   "execution_count": 10,
   "metadata": {},
   "outputs": [
    {
     "data": {
      "text/plain": [
       "'tf-exports/v1.ckpt'"
      ]
     },
     "execution_count": 10,
     "metadata": {},
     "output_type": "execute_result"
    }
   ],
   "source": [
    "export_base_path = 'tf-exports'\n",
    "if not os.path.exists(export_base_path):\n",
    "    os.makedirs(export_base_path)\n",
    "\n",
    "protobuf_path = os.path.join(export_base_path, 'v1.pbtxt')\n",
    "checkpoint_path = os.path.join(export_base_path, 'v1.ckpt')\n",
    "\n",
    "tf.train.write_graph(sess.graph_def, '.', protobuf_path)\n",
    "\n",
    "saver = tf.train.Saver()\n",
    "saver.save(sess, save_path = checkpoint_path)"
   ]
  },
  {
   "cell_type": "code",
   "execution_count": null,
   "metadata": {},
   "outputs": [],
   "source": []
  },
  {
   "cell_type": "code",
   "execution_count": null,
   "metadata": {},
   "outputs": [],
   "source": []
  }
 ],
 "metadata": {
  "kernelspec": {
   "display_name": "Python 3",
   "language": "python",
   "name": "python3"
  },
  "language_info": {
   "codemirror_mode": {
    "name": "ipython",
    "version": 3
   },
   "file_extension": ".py",
   "mimetype": "text/x-python",
   "name": "python",
   "nbconvert_exporter": "python",
   "pygments_lexer": "ipython3",
   "version": "3.6.4"
  },
  "varInspector": {
   "cols": {
    "lenName": 16,
    "lenType": 16,
    "lenVar": 40
   },
   "kernels_config": {
    "python": {
     "delete_cmd_postfix": "",
     "delete_cmd_prefix": "del ",
     "library": "var_list.py",
     "varRefreshCmd": "print(var_dic_list())"
    },
    "r": {
     "delete_cmd_postfix": ") ",
     "delete_cmd_prefix": "rm(",
     "library": "var_list.r",
     "varRefreshCmd": "cat(var_dic_list()) "
    }
   },
   "types_to_exclude": [
    "module",
    "function",
    "builtin_function_or_method",
    "instance",
    "_Feature"
   ],
   "window_display": false
  }
 },
 "nbformat": 4,
 "nbformat_minor": 2
}
