{
 "cells": [
  {
   "cell_type": "markdown",
   "metadata": {
    "colab_type": "text",
    "id": "wayRHvilXqD7"
   },
   "source": [
    "# Детектор номерных знаков"
   ]
  },
  {
   "cell_type": "code",
   "execution_count": 14,
   "metadata": {
    "colab": {
     "autoexec": {
      "startup": false,
      "wait_interval": 0
     },
     "base_uri": "https://localhost:8080/",
     "height": 34,
     "output_extras": [
      {
       "item_id": 1
      }
     ]
    },
    "colab_type": "code",
    "executionInfo": {
     "elapsed": 12949,
     "status": "ok",
     "timestamp": 1518161253484,
     "user": {
      "displayName": "Vladimir Ivanov",
      "photoUrl": "//lh5.googleusercontent.com/-RDDO0DBJ1lQ/AAAAAAAAAAI/AAAAAAAAJPk/YtOsWHPLHus/s50-c-k-no/photo.jpg",
      "userId": "105664733209908862358"
     },
     "user_tz": -180
    },
    "id": "DlXtVl4pXwTs",
    "outputId": "91eca5ee-e616-4395-a3e6-07135e3f8065"
   },
   "outputs": [],
   "source": [
    "import os\n",
    "import glob\n",
    "\n",
    "import matplotlib.pyplot as plt\n",
    "import numpy as np\n",
    "import PIL\n",
    "import tensorflow as tf\n",
    "import keras.callbacks\n",
    "from keras import backend as K\n",
    "from keras.layers import Input, Lambda, Conv2D\n",
    "from keras.models import load_model, Model\n",
    "from keras.callbacks import TensorBoard, ModelCheckpoint, EarlyStopping\n",
    "\n",
    "from yad2k.models.keras_yolo import (preprocess_true_boxes, yolo_body,\n",
    "                                     yolo_eval, yolo_head, yolo_loss)\n",
    "from yad2k.utils.draw_boxes import draw_boxes\n",
    "# import voc_utils as data_parser\n",
    "import random as rd\n",
    "import cv2"
   ]
  },
  {
   "cell_type": "code",
   "execution_count": 4,
   "metadata": {
    "colab": {
     "autoexec": {
      "startup": false,
      "wait_interval": 0
     }
    },
    "colab_type": "code",
    "collapsed": true,
    "id": "y3YqghITpi2r"
   },
   "outputs": [],
   "source": [
    "%matplotlib inline"
   ]
  },
  {
   "cell_type": "markdown",
   "metadata": {
    "colab_type": "text",
    "id": "697L8YC9ZUX3"
   },
   "source": [
    "Функция получения классов. В нашем случае будет всего один класс - Автомобильные номера"
   ]
  },
  {
   "cell_type": "code",
   "execution_count": 5,
   "metadata": {
    "colab": {
     "autoexec": {
      "startup": false,
      "wait_interval": 0
     }
    },
    "colab_type": "code",
    "collapsed": true,
    "id": "zwoLRNKjZT9K"
   },
   "outputs": [],
   "source": [
    "def get_classes(classes_path):\n",
    "    '''loads the classes'''\n",
    "    with open(classes_path) as f:\n",
    "        class_names = f.readlines()\n",
    "    class_names = [c.strip() for c in class_names]\n",
    "    return class_names"
   ]
  },
  {
   "cell_type": "markdown",
   "metadata": {
    "colab_type": "text",
    "id": "TjAmpg0uZkXg"
   },
   "source": [
    "Функция загрузки Якорных ящиков (Anchors boxes)"
   ]
  },
  {
   "cell_type": "code",
   "execution_count": 6,
   "metadata": {
    "colab": {
     "autoexec": {
      "startup": false,
      "wait_interval": 0
     }
    },
    "colab_type": "code",
    "collapsed": true,
    "id": "MV7izcsxZsLC"
   },
   "outputs": [],
   "source": [
    "def get_anchors(anchors_path):\n",
    "    '''loads the anchors from a file'''\n",
    "    with open(anchors_path) as f:\n",
    "        anchors = f.readline()\n",
    "        anchors = [float(x) for x in anchors.split(',')]\n",
    "        return np.array(anchors).reshape(-1, 2)\n"
   ]
  },
  {
   "cell_type": "markdown",
   "metadata": {},
   "source": [
    "Получение имени файла без папок и расширения (т.е. его id)"
   ]
  },
  {
   "cell_type": "code",
   "execution_count": 7,
   "metadata": {
    "collapsed": true
   },
   "outputs": [],
   "source": [
    "def get_ids(voc_path):\n",
    "    \"\"\"Get image identifiers for corresponding list of dataset identifies.\n",
    "    Parameters\n",
    "    ----------\n",
    "    voc_path : str\n",
    "        Path to VOCdevkit directory.\n",
    "    datasets : list of str tuples\n",
    "        List of dataset identifiers in the form of (year, dataset) pairs.\n",
    "    Returns\n",
    "    -------\n",
    "    ids : list of str\n",
    "        List of all image identifiers for given datasets.\n",
    "    \"\"\"\n",
    "    ids = []\n",
    "    files_images = glob.iglob(os.path.join(voc_path, \"*.JPEG\"))\n",
    "    for x in files_images:\n",
    "        name = os.path.splitext(os.path.basename(x))[0]\n",
    "        ids.append(name)\n",
    "#     print(\"names: \", ids)\n",
    "    return ids"
   ]
  },
  {
   "cell_type": "markdown",
   "metadata": {},
   "source": [
    "Функция получения координат боксов из файла"
   ]
  },
  {
   "cell_type": "code",
   "execution_count": 8,
   "metadata": {
    "collapsed": true
   },
   "outputs": [],
   "source": [
    "def get_boxes_for_id(voc_path, image_id):\n",
    "    \"\"\"Get object bounding boxes annotations for given image.\n",
    "    Parameters\n",
    "    ----------\n",
    "    voc_path : str\n",
    "        Path to VOCdevkit directory.\n",
    "    image_id : str\n",
    "        Pascal VOC identifier for given image.\n",
    "    Returns\n",
    "    -------\n",
    "    boxes : array of int\n",
    "        bounding box annotations of class label, xcenter, ycenter, box_width, box_height, image_width, image_height\n",
    "        7xN array.\n",
    "    \"\"\"\n",
    "    fname = os.path.join(voc_path, 'obj/{}.txt'.format(image_id))\n",
    "\n",
    "    boxes = []\n",
    "    with open(fname) as txt_file:\n",
    "        for line in txt_file.readlines():\n",
    "            if(len(line) < 1):\n",
    "                continue\n",
    "            try:\n",
    "                elems = line.split(' ')\n",
    "                bbox = [\n",
    "                    float(elems[1]),\n",
    "                    float(elems[2]),\n",
    "                    float(elems[3]),\n",
    "                    float(elems[4]),\n",
    "                    int(elems[0]),\n",
    "                ]\n",
    "                boxes.append(bbox)\n",
    "            except:\n",
    "                \"problem with get boxes from file: \" + str(fname)    \n",
    "           \n",
    "\n",
    "    return np.array(boxes)"
   ]
  },
  {
   "cell_type": "markdown",
   "metadata": {
    "colab_type": "text",
    "id": "UH3o47Kpdqdw"
   },
   "source": [
    "Функция определения масок"
   ]
  },
  {
   "cell_type": "code",
   "execution_count": 9,
   "metadata": {
    "colab": {
     "autoexec": {
      "startup": false,
      "wait_interval": 0
     }
    },
    "colab_type": "code",
    "collapsed": true,
    "id": "skUw2wrlduu6"
   },
   "outputs": [],
   "source": [
    "def get_detector_mask(boxes, anchors):\n",
    "    '''\n",
    "    Precompute detectors_mask and matching_true_boxes for training.\n",
    "    Detectors mask is 1 for each spatial position in the final conv layer and\n",
    "    anchor that should be active for the given boxes and 0 otherwise.\n",
    "    Matching true boxes gives the regression targets for the ground truth box\n",
    "    that caused a detector to be active or 0 otherwise.\n",
    "    '''\n",
    "    detectors_mask = [0 for i in range(len(boxes))]\n",
    "    matching_true_boxes = [0 for i in range(len(boxes))]\n",
    "    for i, box in enumerate(boxes):\n",
    "        detectors_mask[i], matching_true_boxes[i] = preprocess_true_boxes(box, anchors, [416, 416])\n",
    "\n",
    "    return np.array(detectors_mask), np.array(matching_true_boxes)"
   ]
  },
  {
   "cell_type": "markdown",
   "metadata": {},
   "source": [
    "Загрузчик о аугментатор изображений и координат расположений"
   ]
  },
  {
   "cell_type": "code",
   "execution_count": 10,
   "metadata": {},
   "outputs": [],
   "source": [
    "class TextImageGenerator(keras.callbacks.Callback):\n",
    "    \n",
    "    def __init__(self, images_dir, samples, batch_size, img_w, img_h, anchors, classes):\n",
    "        self.images_dir = images_dir\n",
    "        self.img_h = img_h\n",
    "        self.img_w = img_w\n",
    "        self.samples = samples\n",
    "        self.batch_size = batch_size\n",
    "        self.anchors = anchors\n",
    "        self.classes = classes\n",
    "        \n",
    "        self.n = len(self.samples)\n",
    "        self.indexes = list(range(self.n))\n",
    "        rd.shuffle(self.indexes)\n",
    "        self.cur_index = 0\n",
    "        \n",
    "    def build_data(self, image_id):\n",
    "        image_path = os.path.join(self.images_dir, 'obj/{}.JPEG'.format(image_id))\n",
    "        img = cv2.imread(image_path)\n",
    "        img = cv2.cvtColor(img, cv2.COLOR_BGR2RGB)\n",
    "        boxes = data_parser.get_boxes_for_id(self.images_dir, image_id)\n",
    "        img_w = img.shape[1]\n",
    "        img_h = img.shape[0]\n",
    "\n",
    "        img = cv2.resize(img, (self.img_w, self.img_h))\n",
    "        img = img.astype(np.float32)\n",
    "        img /= 255\n",
    "        img = img.T.transpose(1,2,0)\n",
    "\n",
    "        for i, box in enumerate(boxes):\n",
    "            center_x_orig = box[0]   \n",
    "            center_y_orig = box[1]   \n",
    "            w_orig = box[2]   \n",
    "            h_orig = box[3]   \n",
    "\n",
    "            new_center_x_orig = center_x_orig\n",
    "            new_center_y_orig = center_y_orig\n",
    "            new_w_orig = w_orig * (self.img_w / img_w )\n",
    "            new_h_orig = h_orig * (self.img_h / img_h )\n",
    "\n",
    "            box[0] = new_center_x_orig\n",
    "            box[1] = new_center_y_orig\n",
    "            box[2] = new_w_orig\n",
    "            box[3] = new_h_orig\n",
    "\n",
    "       \n",
    "        return img, boxes\n",
    "        \n",
    "    def get_output_size(self):\n",
    "        return len(alphabet) + 1\n",
    "    \n",
    "    def next_sample(self):\n",
    "        self.cur_index += 1\n",
    "        if self.cur_index >= self.n:\n",
    "            self.cur_index = 0\n",
    "            rd.shuffle(self.indexes)\n",
    "            \n",
    "        return build_data(self.samples[self.indexes[self.cur_index]])\n",
    "    \n",
    "    def next_batch(self):\n",
    "        while True:\n",
    "            images = [] \n",
    "            boxes_list = []\n",
    "            max_boxes = 0\n",
    "            for i in range(self.batch_size):\n",
    "                img, boxes = self.next_sample()\n",
    "                \n",
    "                images.append(img)\n",
    "                boxes = boxes.reshape((-1, 5))\n",
    "                boxes_list.append(boxes)\n",
    "            \n",
    "                if boxes.shape[0] > max_boxes:\n",
    "                    max_boxes = boxes.shape[0]\n",
    "\n",
    "                # add zero pad for training\n",
    "            for i, boxes in enumerate(boxes_list):\n",
    "                if boxes.shape[0]  < max_boxes:\n",
    "                    zero_padding = np.zeros( (max_boxes-boxes.shape[0], 5), dtype=np.float32)\n",
    "                    boxes_list[i] = np.vstack((boxes, zero_padding))\n",
    "            \n",
    "            image_data, boxes_list = np.array(images), np.array(boxes_list) \n",
    "            detectors_mask, matching_true_boxes = get_detector_mask(boxes_list, self.anchors)\n",
    "            \n",
    "            inputs = [image_data, boxes_list, detectors_mask, matching_true_boxes]\n",
    "            outputs = {'yolo_loss': np.zeros([self.batch_size])}\n",
    "            yield (inputs, outputs)\n",
    "            "
   ]
  },
  {
   "cell_type": "markdown",
   "metadata": {
    "colab_type": "text",
    "id": "a8XAS99lfUNF"
   },
   "source": [
    "Функция создающая нашу модель"
   ]
  },
  {
   "cell_type": "code",
   "execution_count": 11,
   "metadata": {
    "colab": {
     "autoexec": {
      "startup": false,
      "wait_interval": 0
     }
    },
    "colab_type": "code",
    "collapsed": true,
    "id": "Lnjq4N77csy6"
   },
   "outputs": [],
   "source": [
    "def create_model_tiny(anchors, class_names, load_pretrained=True, freeze_body=True):\n",
    "    '''\n",
    "    returns the body of the model and the model\n",
    "    # Params:\n",
    "    load_pretrained: whether or not to load the pretrained model or initialize all weights\n",
    "    freeze_body: whether or not to freeze all weights except for the last layer's\n",
    "    # Returns:\n",
    "    model_body: YOLO with new output layer\n",
    "    model: YOLO with custom loss Lambda layer\n",
    "\n",
    "    '''\n",
    "\n",
    "    detectors_mask_shape = (13, 13, 5, 1)\n",
    "    matching_boxes_shape = (13, 13, 5, 5)\n",
    "\n",
    "    # Create model input layers.\n",
    "    image_input = Input(shape=(416, 416, 3), name=\"image_input\")\n",
    "    boxes_input = Input(shape=(None, 5), name=\"boxes_input\")\n",
    "    detectors_mask_input = Input(shape=detectors_mask_shape, name=\"detectors_mask_input\")\n",
    "    matching_boxes_input = Input(shape=matching_boxes_shape, name=\"matching_boxes_input\")\n",
    "\n",
    "    # Create model body.\n",
    "    yolo_model = load_model(os.path.join('model_data', 'tiny_yolo.h5'))\n",
    "    topless_yolo = Model(yolo_model.inputs , outputs=yolo_model.layers[-2].output)\n",
    "\n",
    "    if load_pretrained:\n",
    "        # Save topless yolo:\n",
    "        topless_yolo_path = os.path.join('model_data', 'tiny_yolo_topless.h5')\n",
    "        if not os.path.exists(topless_yolo_path):\n",
    "            print(\"CREATING TOPLESS WEIGHTS FILE\")\n",
    "            yolo_path = os.path.join('model_data', 'tiny_yolo.h5')\n",
    "            model_body = load_model(yolo_path)\n",
    "            model_body = Model(model_body.inputs, outputs=model_body.layers[-2].output)\n",
    "            model_body.save_weights(topless_yolo_path, overwrite=True)\n",
    "        topless_yolo.load_weights(topless_yolo_path)\n",
    "\n",
    "    if freeze_body:\n",
    "        for layer in topless_yolo.layers:\n",
    "            layer.trainable = False\n",
    "    final_layer = Conv2D(len(anchors)*(5+len(class_names)), (1, 1), activation='linear', name=\"final_conv2d_layer\")(topless_yolo.output)\n",
    "\n",
    "    model_body = Model(yolo_model.inputs, final_layer)\n",
    "\n",
    "    # Place model loss on CPU to reduce GPU memory usage.\n",
    "    with tf.device('/cpu:0'):\n",
    "        # TODO: Replace Lambda with custom Keras layer for loss.\n",
    "        model_loss = Lambda(\n",
    "            yolo_loss,\n",
    "            output_shape=(1, ),\n",
    "            name='yolo_loss',\n",
    "            arguments={'anchors': anchors,\n",
    "                       'num_classes': len(class_names)})([\n",
    "                           model_body.output, boxes_input,\n",
    "                           detectors_mask_input, matching_boxes_input\n",
    "                       ])\n",
    "\n",
    "    model = Model(\n",
    "        [model_body.input, boxes_input, detectors_mask_input,\n",
    "         matching_boxes_input], model_loss)\n",
    "\n",
    "    return model_body, model"
   ]
  },
  {
   "cell_type": "markdown",
   "metadata": {
    "colab_type": "text",
    "id": "pfnE1IgdgSXl"
   },
   "source": [
    "Функция тренировки нашей модели"
   ]
  },
  {
   "cell_type": "code",
   "execution_count": 12,
   "metadata": {
    "colab": {
     "autoexec": {
      "startup": false,
      "wait_interval": 0
     }
    },
    "colab_type": "code",
    "id": "lb6xtZhzf0b7"
   },
   "outputs": [],
   "source": [
    "def train(model_name, model, class_names, anchors, images_dir, images_ids, val_split=0.2):\n",
    "    '''\n",
    "    retrain/fine-tune the model\n",
    "    logs training with tensorboard\n",
    "    saves training weights in current directory\n",
    "    best weights according to val_loss is saved as trained_stage_3_best.h5\n",
    "    \n",
    "     image_data, boxes, detectors_mask, matching_true_boxes\n",
    "    '''\n",
    "    \n",
    "    model.compile(\n",
    "        optimizer='adam', loss={\n",
    "            'yolo_loss': lambda y_true, y_pred: y_pred\n",
    "        })  # This is a hack to use the custom loss function in the last layer.\n",
    "\n",
    "    minibatch_size = 32\n",
    "    val_words = int(((len(images_ids)) * val_split) - \\\n",
    "                    (((len(images_ids)) * val_split) % minibatch_size))\n",
    "    print(\"len train\",len(images_ids))\n",
    "    print(\"len val\",val_words)\n",
    "    \n",
    "    logging = TensorBoard()\n",
    "    \n",
    "    img_gen = TextImageGenerator(images_dir, images_ids, minibatch_size, 416, 416, anchors, class_names)\n",
    "    \n",
    "\n",
    "    checkpoint = ModelCheckpoint(\"model_data/{}_trained_stage_1.h5\".format(model_name), monitor='val_loss',\n",
    "                                 save_weights_only=True, save_best_only=True)\n",
    "    early_stopping = EarlyStopping(monitor='val_loss', min_delta=0, patience=15, verbose=1, mode='auto')\n",
    "\n",
    "    \n",
    "    model.fit_generator(generator=img_gen.next_batch(),\n",
    "                    steps_per_epoch=img_gen.n // minibatch_size,\n",
    "                    epochs=5,\n",
    "                    validation_data=img_gen.next_batch(),\n",
    "                    validation_steps=val_words // minibatch_size,\n",
    "                    callbacks=[logging, img_gen])\n",
    "    \n",
    "    \n",
    "    model.save_weights('model_data/{}_trained_stage_1.h5'.format(model_name))\n",
    "\n",
    "    model_body, model = create_model_tiny(anchors, class_names, load_pretrained=False, freeze_body=False)\n",
    "\n",
    "#     model.load_weights('model_data/{}_trained_stage_1.h5'.format(model_name))\n",
    "\n",
    "    model.compile(\n",
    "        optimizer='adam', loss={\n",
    "            'yolo_loss': lambda y_true, y_pred: y_pred\n",
    "        })  # This is a hack to use the custom loss function in the last layer.\n",
    "\n",
    "    model.fit_generator(generator=img_gen.next_batch(),\n",
    "                    steps_per_epoch=img_gen.n // minibatch_size,\n",
    "                    epochs=30,\n",
    "                    validation_data=img_gen.next_batch(),\n",
    "                    validation_steps=val_words // minibatch_size,\n",
    "                    callbacks=[logging, img_gen])\n",
    "#     model.fit([image_data, boxes, detectors_mask, matching_true_boxes],\n",
    "#               np.zeros(len(image_data)),\n",
    "#               validation_split=0.1,\n",
    "#               batch_size=64,\n",
    "#               epochs=30,\n",
    "#               callbacks=[logging])\n",
    "\n",
    "#     model.save_weights('model_data/{}_trained_stage_2.h5'.format(model_name))\n",
    "    model.fit_generator(generator=img_gen.next_batch(),\n",
    "                    steps_per_epoch=img_gen.n // minibatch_size,\n",
    "                    epochs=30,\n",
    "                    validation_data=img_gen.next_batch(),\n",
    "                    validation_steps=val_words // minibatch_size,\n",
    "                    callbacks=[logging, img_gen, checkpoint, early_stopping])\n",
    "    \n",
    "#     model.fit([image_data, boxes, detectors_mask, matching_true_boxes],\n",
    "#               np.zeros(len(image_data)),\n",
    "#               validation_split=0.1,\n",
    "#               batch_size=64,\n",
    "#               epochs=30,\n",
    "#               callbacks=[logging, checkpoint, early_stopping])\n",
    "\n",
    "    model.save_weights('model_data/{}_trained_stage_3.h5'.format(model_name))"
   ]
  },
  {
   "cell_type": "markdown",
   "metadata": {
    "colab_type": "text",
    "id": "mB-7ewPiY7NG"
   },
   "source": [
    "Определим параметры и загрузим изображения"
   ]
  },
  {
   "cell_type": "code",
   "execution_count": 15,
   "metadata": {},
   "outputs": [],
   "source": [
    "model_name = \"tiny\"\n",
    "voc_path = os.path.expanduser(\"in/data/\")\n",
    "\n",
    "anchors = get_anchors(os.path.join('in', 'yolo_anchors.txt'))\n",
    "class_names = get_classes(os.path.join(voc_path, \"obj.names\"))\n",
    "images_ids = get_ids(os.path.join(voc_path, \"obj/\"))"
   ]
  },
  {
   "cell_type": "code",
   "execution_count": null,
   "metadata": {
    "collapsed": true
   },
   "outputs": [],
   "source": [
    "from keras.backend.tensorflow_backend import set_session\n",
    "config = tf.ConfigProto()\n",
    "config.gpu_options.per_process_gpu_memory_fraction = 0.3\n",
    "set_session(tf.Session(config=config))"
   ]
  },
  {
   "cell_type": "code",
   "execution_count": null,
   "metadata": {},
   "outputs": [],
   "source": [
    "model_body, model = create_model_tiny(anchors, class_names)\n",
    "#model_name, model, class_names, anchors, images_dir, images_ids, val_split=0.2\n",
    "train(\n",
    "    model_name,\n",
    "    model,\n",
    "    class_names,\n",
    "    anchors,\n",
    "    voc_path,\n",
    "    images_ids\n",
    ")"
   ]
  },
  {
   "cell_type": "markdown",
   "metadata": {
    "colab_type": "text",
    "id": "I-HwoCf2mi8w"
   },
   "source": [
    "## Тестируем что получилось"
   ]
  },
  {
   "cell_type": "markdown",
   "metadata": {},
   "source": [
    "Функция отрисовки результата"
   ]
  },
  {
   "cell_type": "code",
   "execution_count": null,
   "metadata": {
    "colab": {
     "autoexec": {
      "startup": false,
      "wait_interval": 0
     }
    },
    "colab_type": "code",
    "id": "YheeXKqInfI1",
    "scrolled": true
   },
   "outputs": [],
   "source": [
    "model_body, model = create_model_tiny(anchors, class_names)\n",
    "model_body.load_weights('model_data/{}_trained_stage_1.h5'.format(model_name))"
   ]
  },
  {
   "cell_type": "code",
   "execution_count": null,
   "metadata": {
    "colab": {
     "autoexec": {
      "startup": false,
      "wait_interval": 0
     }
    },
    "colab_type": "code",
    "collapsed": true,
    "id": "MEZCx_Mwmcoz"
   },
   "outputs": [],
   "source": [
    "def draw(model_body, class_names, anchors,images_dir, image_data, save_all=True):\n",
    "#     '''\n",
    "#     Draw bounding boxes on image data\n",
    "#     '''\n",
    "#     if image_set == 'train':\n",
    "#         image_data = np.array([np.expand_dims(image, axis=0)\n",
    "#             for image in image_data[:int(len(image_data)*.9)]])\n",
    "#     elif image_set == 'val':\n",
    "#         image_data = np.array([np.expand_dims(image, axis=0)\n",
    "#             for image in image_data[int(len(image_data)*.9):]])\n",
    "#     elif image_set == 'all':\n",
    "#         image_data = np.array([np.expand_dims(image, axis=0)\n",
    "#             for image in image_data])\n",
    "#     else:\n",
    "#         ValueError(\"draw argument image_set must be 'train', 'val', or 'all'\")\n",
    "\n",
    "\n",
    "\n",
    "    # Create output variables for prediction.\n",
    "    yolo_outputs = yolo_head(model_body.output, anchors, len(class_names))\n",
    "    input_image_shape = K.placeholder(shape=(2, ))\n",
    "    boxes, scores, classes = yolo_eval(\n",
    "        yolo_outputs, input_image_shape, score_threshold=0.07, iou_threshold=0.0)\n",
    "\n",
    "    # Run prediction on overfit image.\n",
    "    sess = K.get_session()  # TODO: Remove dependence on Tensorflow session.\n",
    "\n",
    "#     if  not os.path.exists(out_path):\n",
    "#         os.makedirs(out_path)\n",
    "    for i in range(len(image_data)):\n",
    "        image_path = os.path.join(images_dir, 'obj/{}.JPEG'.format(image_data[i]))\n",
    "        img = cv2.imread(image_path)\n",
    "        img = cv2.cvtColor(img, cv2.COLOR_BGR2RGB)\n",
    "        img = cv2.resize(img, (416,416))\n",
    "        \n",
    "        out_boxes, out_scores, out_classes = sess.run(\n",
    "            [boxes, scores, classes],\n",
    "            feed_dict={\n",
    "                model_body.input: [img],\n",
    "                input_image_shape: [img.shape[0], img.shape[1]],\n",
    "                K.learning_phase(): 0\n",
    "            })\n",
    "        print('Found {} boxes for image.'.format(len(out_boxes)))\n",
    "        print(out_boxes)\n",
    "\n",
    "        # Plot image with predicted boxes.\n",
    "        image_with_boxes = draw_boxes(img, out_boxes, out_classes,\n",
    "                                    class_names, out_scores)\n",
    "        # Save the image:\n",
    "#         if save_all or (len(out_boxes) > 0):\n",
    "#             image = PIL.Image.fromarray(image_with_boxes)\n",
    "#             image.save(os.path.join(out_path,str(i)+'.png'))\n",
    "\n",
    "        # To display (pauses the program):\n",
    "        plt.imshow(image_with_boxes, interpolation='nearest')\n",
    "        plt.show()"
   ]
  },
  {
   "cell_type": "code",
   "execution_count": null,
   "metadata": {},
   "outputs": [],
   "source": [
    "image_path = os.path.join(voc_path, 'obj/{}.JPEG'.format(\"image_0000\"))\n",
    "img = cv2.imread(image_path)\n",
    "img = cv2.cvtColor(img, cv2.COLOR_BGR2RGB)\n",
    "img = cv2.resize(img, (416,416))\n",
    "plt.imshow(img)"
   ]
  },
  {
   "cell_type": "code",
   "execution_count": null,
   "metadata": {
    "colab": {
     "autoexec": {
      "startup": false,
      "wait_interval": 0
     }
    },
    "colab_type": "code",
    "id": "UhxyJ9Aknp_e"
   },
   "outputs": [],
   "source": [
    "draw(model_body,\n",
    "    class_names,\n",
    "    anchors,\n",
    "    voc_path,\n",
    "    images_ids[:1],\n",
    "    save_all=True)"
   ]
  },
  {
   "cell_type": "markdown",
   "metadata": {},
   "source": [
    "Сохраним модель с весами"
   ]
  },
  {
   "cell_type": "code",
   "execution_count": null,
   "metadata": {
    "collapsed": true
   },
   "outputs": [],
   "source": [
    "model_body.save(os.path.join('model_data', '{}_yolo_finish.h5'.format(model_name)))"
   ]
  },
  {
   "cell_type": "markdown",
   "metadata": {},
   "source": [
    "## Функция для выгрузки в Андроид"
   ]
  },
  {
   "cell_type": "code",
   "execution_count": null,
   "metadata": {
    "collapsed": true
   },
   "outputs": [],
   "source": [
    "def save_to_android(input_name, output_name, model_name, weights_name):\n",
    "    K.set_learning_phase(0)\n",
    "\n",
    "    model = load_model(os.path.join('model_data', model_name), compile=False)\n",
    "    model.load_weights(os.path.join('model_data', weights_name))\n",
    "\n",
    "    sess = K.get_session()\n",
    "\n",
    "    export_base_path = 'tf-exports'\n",
    "    if not os.path.exists(export_base_path):\n",
    "        os.makedirs(export_base_path)\n",
    "    \n",
    "    protobuf_path = os.path.join(export_base_path, 'yolo-tiny-v1.pbtxt')\n",
    "    checkpoint_path = os.path.join(export_base_path, 'yolo-tiny-v1.ckpt')\n",
    "\n",
    "    tf.train.write_graph(sess.graph_def, '.', protobuf_path)\n",
    "\n",
    "    saver = tf.train.Saver()\n",
    "    saver.save(sess, save_path = checkpoint_path)"
   ]
  },
  {
   "cell_type": "markdown",
   "metadata": {},
   "source": [
    "Сохраним данные о модели в protobuf для последующей выгрузки в Андроид"
   ]
  },
  {
   "cell_type": "code",
   "execution_count": null,
   "metadata": {
    "collapsed": true
   },
   "outputs": [],
   "source": [
    "input_name = 'input_1' \n",
    "output_name = 'final_conv2d_layer/BiasAdd' \n",
    "save_to_android(input_name, \n",
    "                output_name,\n",
    "                model_name='{}_yolo_finish.h5'.format(model_name), \n",
    "                weights_name='{}_trained_stage_3_best.h5'.format(model_name))"
   ]
  },
  {
   "cell_type": "markdown",
   "metadata": {},
   "source": [
    "## Функция нарезающая номерные знаки, пригодится для подготовки данных для распознания"
   ]
  },
  {
   "cell_type": "code",
   "execution_count": null,
   "metadata": {
    "collapsed": true
   },
   "outputs": [],
   "source": [
    "def crop_and_resize(index, image, boxes, box_classes, croped_output_path):\n",
    "    image = Image.fromarray(np.floor(image * 255 + 0.5).astype('uint8'))\n",
    "\n",
    "    for i, c in list(enumerate(box_classes)):\n",
    "        box = boxes[i]\n",
    "\n",
    "        top, left, bottom, right = box\n",
    "        top = max(0, np.floor(top + 0.5).astype('int32'))\n",
    "        left = max(0, np.floor(left + 0.5).astype('int32'))\n",
    "        bottom = min(image.size[1], np.floor(bottom + 0.5).astype('int32'))\n",
    "        right = min(image.size[0], np.floor(right + 0.5).astype('int32'))\n",
    "        print(\"croped and resized:\",os.path.join(croped_output_path, str(index) + '.png'))\n",
    "\n",
    "        image_crop = image.crop([left + i, top + i, right - i, bottom - i])\n",
    "        image_resize = image_crop.resize((416,416), resample=Image.BICUBIC)\n",
    "        image_resize.save(os.path.join(croped_output_path, str(index) + '.png'))\n",
    "        "
   ]
  },
  {
   "cell_type": "code",
   "execution_count": null,
   "metadata": {
    "collapsed": true
   },
   "outputs": [],
   "source": [
    "def crop_and_save_numbers_licence(model, class_names, anchors, image_data, output_path=\"output_images\", save_all=True, croped_output_path=None):\n",
    "    '''\n",
    "    Draw bounding boxes on image data\n",
    "    '''\n",
    "    image_data = np.array([np.expand_dims(image, axis=0)\n",
    "                           for image in image_data])\n",
    "    print(\"model.output\", model.output)\n",
    "    # Tensor(\"yolo_loss/mul_13:0\", shape=(), dtype=float32, device=/device:CPU:0)\n",
    "    # Create output variables for prediction.\n",
    "    yolo_outputs = yolo_head(model.output, anchors, len(class_names))\n",
    "    input_image_shape = K.placeholder(shape=(2, ))\n",
    "    boxes, scores, classes = yolo_eval(\n",
    "        yolo_outputs, input_image_shape, score_threshold=0.07, iou_threshold=0.0)\n",
    "\n",
    "    # Run prediction on overfit image.\n",
    "    sess = K.get_session()  # TODO: Remove dependence on Tensorflow session.\n",
    "\n",
    "    if not os.path.exists(output_path):\n",
    "        os.makedirs(output_path)\n",
    "    for i in range(len(image_data)):\n",
    "        out_boxes, out_scores, out_classes = sess.run(\n",
    "            [boxes, scores, classes],\n",
    "            feed_dict={\n",
    "                model.input: image_data[i],\n",
    "                input_image_shape: [image_data.shape[2], image_data.shape[3]],\n",
    "                K.learning_phase(): 0\n",
    "            })\n",
    "        print('Found {} boxes for image.'.format(len(out_boxes)))\n",
    "        print(out_boxes)\n",
    "        print(\"croped_output_path:\",croped_output_path)\n",
    "\n",
    "        # Plot image with predicted boxes.\n",
    "        image_with_boxes = draw_boxes(image_data[i][0], out_boxes, out_classes,\n",
    "                                      class_names, out_scores)\n",
    "        # Save the image:\n",
    "        if save_all or (len(out_boxes) > 0):\n",
    "            image = Image.fromarray(image_with_boxes)\n",
    "            image.save(os.path.join(output_path, str(i) + '.png'))\n",
    "\n",
    "        if croped_output_path != None :\n",
    "            crop_and_resize(i, image_data[i][0], out_boxes, out_classes, croped_output_path)\n",
    "        # To display (pauses the program):\n",
    "        # plt.imshow(image_with_boxes, interpolation='nearest')\n",
    "        # plt.show()"
   ]
  },
  {
   "cell_type": "code",
   "execution_count": null,
   "metadata": {
    "collapsed": true
   },
   "outputs": [],
   "source": []
  }
 ],
 "metadata": {
  "colab": {
   "collapsed_sections": [],
   "default_view": {},
   "name": "detection.ipynb",
   "private_outputs": true,
   "provenance": [],
   "version": "0.3.2",
   "views": {}
  },
  "kernelspec": {
   "display_name": "Python 3",
   "language": "python",
   "name": "python3"
  },
  "language_info": {
   "codemirror_mode": {
    "name": "ipython",
    "version": 3
   },
   "file_extension": ".py",
   "mimetype": "text/x-python",
   "name": "python",
   "nbconvert_exporter": "python",
   "pygments_lexer": "ipython3",
   "version": "3.6.4"
  }
 },
 "nbformat": 4,
 "nbformat_minor": 1
}
